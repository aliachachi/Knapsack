{
 "cells": [
  {
   "cell_type": "code",
   "execution_count": 8,
   "id": "acc54135",
   "metadata": {},
   "outputs": [
    {
     "data": {
      "text/plain": [
       "4"
      ]
     },
     "execution_count": 8,
     "metadata": {},
     "output_type": "execute_result"
    }
   ],
   "source": [
    "file = open(r\"C:\\Users\\Surface\\A02.1\")\n",
    "answer = []\n",
    "\n",
    "\n",
    "for i in file:\n",
    "    answer.append(i.replace(\"\\n\",\"\"))\n",
    "\n",
    "c1 = answer[4:505]    # x1 -> x501 : classe 1\n",
    "c2 = answer[505:1005]  # x502 -> x1000 :classe 2\n",
    "\n",
    "\n",
    "n = open(\"ksp7.lp\", \"w\")\n",
    "# fonction objectif\n",
    "n.write(\"Maximize\\n\")\n",
    "n.write(\"obj: Z\\n\")\n",
    "\n",
    "# constraints\n",
    "for i in range(4,len(answer)):\n",
    "    if i == 4:\n",
    "        n.write(\"st\\n\")\n",
    "    else:\n",
    "        n.write(\"+\")\n",
    "    n.write(answer[i].split(\" \")[1] + \"x\" + str(i-3))\n",
    "n.write(\"<=\" + answer[2] +\"\\n\")\n",
    "n.write('-Z +')\n",
    "for i in range(4,len(answer)):\n",
    "    if i == 4:\n",
    "        n.write(\"\")\n",
    "    else:\n",
    "        n.write(\"+\")\n",
    "    n.write(answer[i].split(\" \")[0] + \"x\" + str(i-3))\n",
    "n.write(\">=\" + str(0) )\n",
    "\n",
    "# bounds\n",
    "n.write(\"\\n\\nbounds\\n\")\n",
    "for i in range(1,len(answer)-3):\n",
    "    n.write(\"0<=\" + \"x\" + str(i)+ \"<=1\\n\")\n",
    "n.write(\"\\nBinaries\\n\")\n",
    "for i in range(1,len(answer)-3):\n",
    "    n.write(\"x\" + str(i)+ \" \")\n",
    "n.write(\"\\nend\")\n",
    "\n",
    "\n"
   ]
  },
  {
   "cell_type": "code",
   "execution_count": null,
   "id": "9b143e43",
   "metadata": {},
   "outputs": [],
   "source": []
  }
 ],
 "metadata": {
  "kernelspec": {
   "display_name": "Python 3.10.5 64-bit",
   "language": "python",
   "name": "python3"
  },
  "language_info": {
   "codemirror_mode": {
    "name": "ipython",
    "version": 3
   },
   "file_extension": ".py",
   "mimetype": "text/x-python",
   "name": "python",
   "nbconvert_exporter": "python",
   "pygments_lexer": "ipython3",
   "version": "3.10.5"
  },
  "vscode": {
   "interpreter": {
    "hash": "f0b475a77ee5c332ac0f56cd7e5ca638cc723c9d6764efed44e206b2405026c2"
   }
  }
 },
 "nbformat": 4,
 "nbformat_minor": 5
}
